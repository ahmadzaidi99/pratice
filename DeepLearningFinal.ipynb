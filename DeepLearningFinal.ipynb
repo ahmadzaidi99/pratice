{
  "nbformat": 4,
  "nbformat_minor": 0,
  "metadata": {
    "colab": {
      "name": "DeepLearningFinal.ipynb",
      "provenance": [],
      "mount_file_id": "1vR0K2X4LwWbjsR1HSV_IbKOzXVefPfOz",
      "authorship_tag": "ABX9TyPOwqo7IhgQuxPRywRNexbA",
      "include_colab_link": true
    },
    "kernelspec": {
      "name": "python3",
      "display_name": "Python 3"
    },
    "language_info": {
      "name": "python"
    }
  },
  "cells": [
    {
      "cell_type": "markdown",
      "metadata": {
        "id": "view-in-github",
        "colab_type": "text"
      },
      "source": [
        "<a href=\"https://colab.research.google.com/github/ahmadzaidi99/pratice/blob/master/DeepLearningFinal.ipynb\" target=\"_parent\"><img src=\"https://colab.research.google.com/assets/colab-badge.svg\" alt=\"Open In Colab\"/></a>"
      ]
    },
    {
      "cell_type": "code",
      "metadata": {
        "colab": {
          "base_uri": "https://localhost:8080/"
        },
        "id": "I9iuJCt8aZRL",
        "outputId": "0d8cca2d-9f42-4876-8b03-6c9da1893eeb"
      },
      "source": [
        "!pip install datasets"
      ],
      "execution_count": 1,
      "outputs": [
        {
          "output_type": "stream",
          "text": [
            "Collecting datasets\n",
            "\u001b[?25l  Downloading https://files.pythonhosted.org/packages/46/1a/b9f9b3bfef624686ae81c070f0a6bb635047b17cdb3698c7ad01281e6f9a/datasets-1.6.2-py3-none-any.whl (221kB)\n",
            "\r\u001b[K     |█▌                              | 10kB 15.6MB/s eta 0:00:01\r\u001b[K     |███                             | 20kB 20.9MB/s eta 0:00:01\r\u001b[K     |████▍                           | 30kB 18.0MB/s eta 0:00:01\r\u001b[K     |██████                          | 40kB 15.6MB/s eta 0:00:01\r\u001b[K     |███████▍                        | 51kB 8.4MB/s eta 0:00:01\r\u001b[K     |████████▉                       | 61kB 9.7MB/s eta 0:00:01\r\u001b[K     |██████████▍                     | 71kB 8.2MB/s eta 0:00:01\r\u001b[K     |███████████▉                    | 81kB 9.1MB/s eta 0:00:01\r\u001b[K     |█████████████▎                  | 92kB 9.6MB/s eta 0:00:01\r\u001b[K     |██████████████▊                 | 102kB 8.0MB/s eta 0:00:01\r\u001b[K     |████████████████▎               | 112kB 8.0MB/s eta 0:00:01\r\u001b[K     |█████████████████▊              | 122kB 8.0MB/s eta 0:00:01\r\u001b[K     |███████████████████▏            | 133kB 8.0MB/s eta 0:00:01\r\u001b[K     |████████████████████▊           | 143kB 8.0MB/s eta 0:00:01\r\u001b[K     |██████████████████████▏         | 153kB 8.0MB/s eta 0:00:01\r\u001b[K     |███████████████████████▋        | 163kB 8.0MB/s eta 0:00:01\r\u001b[K     |█████████████████████████▏      | 174kB 8.0MB/s eta 0:00:01\r\u001b[K     |██████████████████████████▋     | 184kB 8.0MB/s eta 0:00:01\r\u001b[K     |████████████████████████████    | 194kB 8.0MB/s eta 0:00:01\r\u001b[K     |█████████████████████████████▌  | 204kB 8.0MB/s eta 0:00:01\r\u001b[K     |███████████████████████████████ | 215kB 8.0MB/s eta 0:00:01\r\u001b[K     |████████████████████████████████| 225kB 8.0MB/s \n",
            "\u001b[?25hRequirement already satisfied: multiprocess in /usr/local/lib/python3.7/dist-packages (from datasets) (0.70.11.1)\n",
            "Requirement already satisfied: dill in /usr/local/lib/python3.7/dist-packages (from datasets) (0.3.3)\n",
            "Collecting fsspec\n",
            "\u001b[?25l  Downloading https://files.pythonhosted.org/packages/bc/52/816d1a3a599176057bf29dfacb1f8fadb61d35fbd96cb1bab4aaa7df83c0/fsspec-2021.5.0-py3-none-any.whl (111kB)\n",
            "\u001b[K     |████████████████████████████████| 112kB 50.0MB/s \n",
            "\u001b[?25hRequirement already satisfied: requests>=2.19.0 in /usr/local/lib/python3.7/dist-packages (from datasets) (2.23.0)\n",
            "Requirement already satisfied: pandas in /usr/local/lib/python3.7/dist-packages (from datasets) (1.1.5)\n",
            "Requirement already satisfied: numpy>=1.17 in /usr/local/lib/python3.7/dist-packages (from datasets) (1.19.5)\n",
            "Requirement already satisfied: packaging in /usr/local/lib/python3.7/dist-packages (from datasets) (20.9)\n",
            "Requirement already satisfied: importlib-metadata; python_version < \"3.8\" in /usr/local/lib/python3.7/dist-packages (from datasets) (4.0.1)\n",
            "Collecting huggingface-hub<0.1.0\n",
            "  Downloading https://files.pythonhosted.org/packages/a1/88/7b1e45720ecf59c6c6737ff332f41c955963090a18e72acbcbeac6b25e86/huggingface_hub-0.0.8-py3-none-any.whl\n",
            "Requirement already satisfied: pyarrow>=1.0.0<4.0.0 in /usr/local/lib/python3.7/dist-packages (from datasets) (3.0.0)\n",
            "Collecting xxhash\n",
            "\u001b[?25l  Downloading https://files.pythonhosted.org/packages/7d/4f/0a862cad26aa2ed7a7cd87178cbbfa824fc1383e472d63596a0d018374e7/xxhash-2.0.2-cp37-cp37m-manylinux2010_x86_64.whl (243kB)\n",
            "\u001b[K     |████████████████████████████████| 245kB 41.3MB/s \n",
            "\u001b[?25hRequirement already satisfied: tqdm<4.50.0,>=4.27 in /usr/local/lib/python3.7/dist-packages (from datasets) (4.41.1)\n",
            "Requirement already satisfied: idna<3,>=2.5 in /usr/local/lib/python3.7/dist-packages (from requests>=2.19.0->datasets) (2.10)\n",
            "Requirement already satisfied: chardet<4,>=3.0.2 in /usr/local/lib/python3.7/dist-packages (from requests>=2.19.0->datasets) (3.0.4)\n",
            "Requirement already satisfied: urllib3!=1.25.0,!=1.25.1,<1.26,>=1.21.1 in /usr/local/lib/python3.7/dist-packages (from requests>=2.19.0->datasets) (1.24.3)\n",
            "Requirement already satisfied: certifi>=2017.4.17 in /usr/local/lib/python3.7/dist-packages (from requests>=2.19.0->datasets) (2020.12.5)\n",
            "Requirement already satisfied: python-dateutil>=2.7.3 in /usr/local/lib/python3.7/dist-packages (from pandas->datasets) (2.8.1)\n",
            "Requirement already satisfied: pytz>=2017.2 in /usr/local/lib/python3.7/dist-packages (from pandas->datasets) (2018.9)\n",
            "Requirement already satisfied: pyparsing>=2.0.2 in /usr/local/lib/python3.7/dist-packages (from packaging->datasets) (2.4.7)\n",
            "Requirement already satisfied: zipp>=0.5 in /usr/local/lib/python3.7/dist-packages (from importlib-metadata; python_version < \"3.8\"->datasets) (3.4.1)\n",
            "Requirement already satisfied: typing-extensions>=3.6.4; python_version < \"3.8\" in /usr/local/lib/python3.7/dist-packages (from importlib-metadata; python_version < \"3.8\"->datasets) (3.7.4.3)\n",
            "Requirement already satisfied: filelock in /usr/local/lib/python3.7/dist-packages (from huggingface-hub<0.1.0->datasets) (3.0.12)\n",
            "Requirement already satisfied: six>=1.5 in /usr/local/lib/python3.7/dist-packages (from python-dateutil>=2.7.3->pandas->datasets) (1.15.0)\n",
            "Installing collected packages: fsspec, huggingface-hub, xxhash, datasets\n",
            "Successfully installed datasets-1.6.2 fsspec-2021.5.0 huggingface-hub-0.0.8 xxhash-2.0.2\n"
          ],
          "name": "stdout"
        }
      ]
    },
    {
      "cell_type": "code",
      "metadata": {
        "colab": {
          "base_uri": "https://localhost:8080/"
        },
        "id": "Iam5nS_Kd_yL",
        "outputId": "bfe4fff4-0ef9-47e3-c74a-7cd5d35af022"
      },
      "source": [
        "from datasets import load_dataset\n",
        "import re\n",
        "\n",
        "def get_data(split='mini', dataset='reuters21578', mode='ModApte'):\n",
        "  if split == 'mini':\n",
        "    split = 'train[:5%]'\n",
        "  elif split == 'train':\n",
        "    split = 'train'\n",
        "  elif split == 'test':\n",
        "    split = 'test'\n",
        "  return load_dataset(dataset, mode, split=split)\n",
        "\n",
        "d = get_data()"
      ],
      "execution_count": 16,
      "outputs": [
        {
          "output_type": "stream",
          "text": [
            "Reusing dataset reuters21578 (/root/.cache/huggingface/datasets/reuters21578/ModApte/1.0.0/bd91fac5a25fc818873c02a7281cc276c9b326a9e6a89288fc6ba6967772240f)\n"
          ],
          "name": "stderr"
        }
      ]
    },
    {
      "cell_type": "code",
      "metadata": {
        "colab": {
          "base_uri": "https://localhost:8080/",
          "height": 154
        },
        "id": "cliII2xxf9zp",
        "outputId": "1777f268-eb73-479e-af4f-bf7baea72215"
      },
      "source": [
        "re.sub('\\n', ' ', d[0]['text'].lower())"
      ],
      "execution_count": 17,
      "outputs": [
        {
          "output_type": "execute_result",
          "data": {
            "application/vnd.google.colaboratory.intrinsic+json": {
              "type": "string"
            },
            "text/plain": [
              "'showers continued throughout the week in the bahia cocoa zone, alleviating the drought since early january and improving prospects for the coming temporao, although normal humidity levels have not been restored, comissaria smith said in its weekly review.     the dry period means the temporao will be late this year.     arrivals for the week ended february 22 were 155,221 bags of 60 kilos making a cumulative total for the season of 5.93 mln against 5.81 at the same stage last year. again it seems that cocoa delivered earlier on consignment was included in the arrivals figures.     comissaria smith said there is still some doubt as to how much old crop cocoa is still available as harvesting has practically come to an end. with total bahia crop estimates around 6.4 mln bags and sales standing at almost 6.2 mln there are a few hundred thousand bags still in the hands of farmers, middlemen, exporters and processors.     there are doubts as to how much of this cocoa would be fit for export as shippers are now experiencing dificulties in obtaining +bahia superior+ certificates.     in view of the lower quality over recent weeks farmers have sold a good part of their cocoa held on consignment.     comissaria smith said spot bean prices rose to 340 to 350 cruzados per arroba of 15 kilos.     bean shippers were reluctant to offer nearby shipment and only limited sales were booked for march shipment at 1,750 to 1,780 dlrs per tonne to ports to be named.     new crop sales were also light and all to open ports with june/july going at 1,850 and 1,880 dlrs and at 35 and 45 dlrs under new york july, aug/sept at 1,870, 1,875 and 1,880 dlrs per tonne fob.     routine sales of butter were made. march/april sold at 4,340, 4,345 and 4,350 dlrs.     april/may butter went at 2.27 times new york may, june/july at 4,400 and 4,415 dlrs, aug/sept at 4,351 to 4,450 dlrs and at 2.27 and 2.28 times new york sept and oct/dec at 4,480 dlrs and 2.27 times new york dec, comissaria smith said.     destinations were the u.s., covertible currency areas, uruguay and open ports.     cake sales were registered at 785 to 995 dlrs for march/april, 785 dlrs for may, 753 dlrs for aug and 0.39 times new york dec for oct/dec.     buyers were the u.s., argentina, uruguay and convertible currency areas.     liquor sales were limited with march/april selling at 2,325 and 2,380 dlrs, june/july at 2,375 dlrs and at 1.25 times new york july, aug/sept at 2,400 dlrs and at 1.25 times new york sept and oct/dec at 1.25 times new york dec, comissaria smith said.     total bahia sales are currently estimated at 6.13 mln bags against the 1986/87 crop and 1.06 mln bags against the 1987/88 crop.     final figures for the period to february 28 are expected to be published by the brazilian cocoa trade commission after carnival which ends midday on february 27.  reuter '"
            ]
          },
          "metadata": {
            "tags": []
          },
          "execution_count": 17
        }
      ]
    }
  ]
}